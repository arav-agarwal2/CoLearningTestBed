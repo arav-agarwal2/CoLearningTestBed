{
 "cells": [
  {
   "cell_type": "code",
   "execution_count": 10,
   "metadata": {},
   "outputs": [],
   "source": [
    "import math\n",
    "import numpy as np\n",
    "import pickle"
   ]
  },
  {
   "cell_type": "code",
   "execution_count": 11,
   "metadata": {},
   "outputs": [],
   "source": [
    "# From https://stackoverflow.com/questions/64890117/what-is-the-best-way-to-generate-all-binary-strings-of-the-given-length-in-pytho\n",
    "def generate_binary(bit_count):\n",
    "    binary_strings = []\n",
    "    def genbin(n, bs=''):\n",
    "        if len(bs) == n:\n",
    "            binary_strings.append(bs)\n",
    "        else:\n",
    "            genbin(n, bs + '0')\n",
    "            genbin(n, bs + '1')\n",
    "\n",
    "\n",
    "    genbin(bit_count)\n",
    "    return [bitstr_to_tuple(bs) for bs in binary_strings]\n",
    "\n",
    "def bitstr_to_tuple(bitstr):\n",
    "    return tuple(int(elem) for elem in bitstr)"
   ]
  },
  {
   "cell_type": "code",
   "execution_count": 16,
   "metadata": {},
   "outputs": [
    {
     "name": "stdout",
     "output_type": "stream",
     "text": [
      "REDUNDANT_CONCEPTS_64.pickle\n"
     ]
    }
   ],
   "source": [
    "# Number of data points\n",
    "NUM_DATA = 1000\n",
    "# Number of samples from the same concept Gaussian ( i.e. 'modalities' )\n",
    "NUM_SAMPLES = 5 # For now?\n",
    "# Standard deviation of generated Gaussian distributions\n",
    "SEP = 0.5 # 0.5,1.0,2.0 with 100 concepts\n",
    "# Number of concepts\n",
    "NUM_CONCEPTS = 64 # 2,10,100,1000 with 1.0 std here\n",
    "# Number of paired data per concept\n",
    "NUM_PAIRED_DATA = 5\n",
    "\n",
    "DIMENSION = 32\n",
    "CONCEPT_DIM = 32\n",
    "\n",
    "# Generate Concept Means\n",
    "concept_dim = 7\n",
    "concept_means = generate_binary(concept_dim)\n",
    "\n",
    "# Generate means of concepts, so that they're spaced out evenly a la sklearn.datasets.make_classification [\n",
    "# I. Guyon, 'Design of experiments for the NIPS 2003 variable selection benchmark', 2003.]\n",
    "TFs = []\n",
    "for i in range(NUM_SAMPLES):\n",
    "    TFs.append(np.random.normal(0.0,1.0,(CONCEPT_DIM, DIMENSION)))\n",
    "\n",
    "# Transform from concepts to concept_means\n",
    "TFSTAR = np.random.uniform(0.0,1.0,(concept_dim, CONCEPT_DIM))\n",
    "\n",
    "\n",
    "total_raw_data = []\n",
    "\n",
    "for modality_idx in range(NUM_SAMPLES):\n",
    "    temp_list = []\n",
    "    for concept_idx in range(NUM_CONCEPTS):\n",
    "        sample_set = np.random.multivariate_normal(concept_means[concept_idx],np.eye(concept_dim)*SEP, (NUM_DATA,))\n",
    "        temp_list.append(sample_set)\n",
    "    total_raw_data.append(temp_list)\n",
    "X_train = np.array(total_raw_data).transpose((2,1,0,3)).reshape((-1,NUM_SAMPLES, concept_dim))\n",
    "y_train = np.tile([i for i in range(NUM_CONCEPTS)], NUM_DATA)\n",
    "\n",
    "total_test_data = []\n",
    "\n",
    "for modality_idx in range(NUM_SAMPLES):\n",
    "    temp_list = []\n",
    "    for concept_idx in range(NUM_CONCEPTS):\n",
    "        sample_set = np.random.multivariate_normal(concept_means[concept_idx],np.eye(concept_dim)*SEP, (NUM_DATA,))\n",
    "        temp_list.append(sample_set)\n",
    "    total_test_data.append(temp_list)\n",
    "X_test = np.array(total_test_data).transpose((2,1,0,3)).reshape((-1,NUM_SAMPLES, concept_dim))\n",
    "y_test = np.tile([i for i in range(NUM_CONCEPTS)], NUM_DATA)\n",
    "\n",
    "\n",
    "data = dict()\n",
    "data['train'] = dict()\n",
    "data['test'] = dict()\n",
    "keys = ['a','b','c','d','e']\n",
    "for i, k in enumerate(keys):\n",
    "    data['train'][k] = X_train[:,i]@TFSTAR@TFs[i]\n",
    "    data['test'][k] = X_test[:,i]@TFSTAR@TFs[i]\n",
    "data['train']['label'] = y_train\n",
    "data['test']['label'] = y_test\n",
    "\n",
    "\n",
    "with open(f\"REDUNDANT_CONCEPTS_{NUM_CONCEPTS}.pickle\", 'wb') as f:\n",
    "  print(f\"REDUNDANT_CONCEPTS_{NUM_CONCEPTS}.pickle\")\n",
    "  pickle.dump(data, f)"
   ]
  },
  {
   "cell_type": "code",
   "execution_count": null,
   "metadata": {},
   "outputs": [],
   "source": []
  }
 ],
 "metadata": {
  "kernelspec": {
   "display_name": "Python 3.9.6 ('multibench')",
   "language": "python",
   "name": "python3"
  },
  "language_info": {
   "codemirror_mode": {
    "name": "ipython",
    "version": 3
   },
   "file_extension": ".py",
   "mimetype": "text/x-python",
   "name": "python",
   "nbconvert_exporter": "python",
   "pygments_lexer": "ipython3",
   "version": "3.9.6"
  },
  "orig_nbformat": 4,
  "vscode": {
   "interpreter": {
    "hash": "8158f520b0615a91d72976457965394544e0f25ca15232774db0f5a21042574b"
   }
  }
 },
 "nbformat": 4,
 "nbformat_minor": 2
}
