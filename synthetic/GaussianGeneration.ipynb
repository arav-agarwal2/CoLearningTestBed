{
 "cells": [
  {
   "cell_type": "code",
   "execution_count": 25,
   "metadata": {},
   "outputs": [],
   "source": [
    "%matplotlib inline\n",
    "from collections import Counter\n",
    "\n",
    "import matplotlib.pyplot as plt\n",
    "import numpy as np\n",
    "import seaborn as sns\n",
    "import numpy as np\n",
    "from  scipy.special import softmax as sm\n",
    "from tqdm import tqdm"
   ]
  },
  {
   "cell_type": "code",
   "execution_count": 26,
   "metadata": {},
   "outputs": [],
   "source": [
    "# Global Vars\n",
    "CLASS_NO = 2\n",
    "BIMODAL_CONCEPT_NO = 40\n",
    "MODE_A_CONCEPT_NO = 300\n",
    "MODE_A_CONCEPT_DIM_OG = 30\n",
    "MODE_B_CONCEPT_NO = 300\n",
    "MODE_B_CONCEPT_DIM_OG = 30\n",
    "DATASET_SIZE = 100000"
   ]
  },
  {
   "cell_type": "code",
   "execution_count": 27,
   "metadata": {},
   "outputs": [
    {
     "data": {
      "text/plain": [
       "array([0.49347702, 0.50652298])"
      ]
     },
     "execution_count": 27,
     "metadata": {},
     "output_type": "execute_result"
    }
   ],
   "source": [
    "# Conditional Distributions [Can be scaled arbitrarily]\n",
    "class_dist = sm(np.random.normal(size=(CLASS_NO)))\n",
    "class_to_bimodal = sm(np.random.normal(size=(CLASS_NO, BIMODAL_CONCEPT_NO)),axis=1)\n",
    "bimodal_to_mode_a = sm(np.random.normal(size=(BIMODAL_CONCEPT_NO, MODE_A_CONCEPT_NO)),axis=1)\n",
    "bimodal_to_mode_b = sm(np.random.normal(size=(BIMODAL_CONCEPT_NO, MODE_B_CONCEPT_NO)),axis=1)\n",
    "class_dist"
   ]
  },
  {
   "cell_type": "code",
   "execution_count": 28,
   "metadata": {},
   "outputs": [
    {
     "name": "stderr",
     "output_type": "stream",
     "text": [
      "100000it [00:11, 9013.72it/s]\n"
     ]
    }
   ],
   "source": [
    "# Generate labels\n",
    "TRUE_LABELS = np.random.choice(CLASS_NO, DATASET_SIZE, p=class_dist)\n",
    "# Generate bimodal concepts from labels\n",
    "multimodal_concepts = np.zeros(TRUE_LABELS.shape)\n",
    "modality_a_concept = np.zeros(TRUE_LABELS.shape)\n",
    "modality_b_concept = np.zeros(TRUE_LABELS.shape)\n",
    "for idx,label in tqdm(enumerate(TRUE_LABELS)):\n",
    "  multimodal_concepts[idx] = np.random.choice(BIMODAL_CONCEPT_NO, 1, p=class_to_bimodal[label,:])\n",
    "  mc = multimodal_concepts[idx]\n",
    "  modality_a_concept[idx] = np.random.choice(MODE_A_CONCEPT_NO, 1, p=bimodal_to_mode_a[int(mc), :])\n",
    "  modality_b_concept[idx] = np.random.choice(MODE_B_CONCEPT_NO, 1, p=bimodal_to_mode_b[int(mc), :])\n",
    "\n",
    "# Here are the \"true\" concepts per each modality:\n",
    "CONCEPT_DATA = np.stack([modality_a_concept, modality_b_concept], axis=1)"
   ]
  },
  {
   "cell_type": "code",
   "execution_count": 29,
   "metadata": {},
   "outputs": [
    {
     "name": "stdout",
     "output_type": "stream",
     "text": [
      "(100000, 2)\n"
     ]
    }
   ],
   "source": [
    "print(CONCEPT_DATA.shape)"
   ]
  },
  {
   "cell_type": "code",
   "execution_count": 30,
   "metadata": {},
   "outputs": [
    {
     "name": "stderr",
     "output_type": "stream",
     "text": [
      "0it [00:00, ?it/s]/tmp/ipykernel_376403/3642999245.py:11: RuntimeWarning: covariance is not positive-semidefinite.\n",
      "  modality_a_data[idx,:]= np.random.multivariate_normal(concept_mean, concept_std)\n",
      "100000it [00:53, 1883.07it/s]\n",
      "0it [00:00, ?it/s]/tmp/ipykernel_376403/3642999245.py:17: RuntimeWarning: covariance is not positive-semidefinite.\n",
      "  modality_b_data[idx,:]= np.random.multivariate_normal(concept_mean, concept_std)\n",
      "100000it [00:53, 1872.43it/s]\n"
     ]
    },
    {
     "data": {
      "text/plain": [
       "((100000, 30), (100000, 30), (100000, 60))"
      ]
     },
     "execution_count": 30,
     "metadata": {},
     "output_type": "execute_result"
    }
   ],
   "source": [
    "# Generate random values for each concept's mean and variance:\n",
    "MODALITY_A_CONCEPT_MEANS = np.random.uniform(-1.0,1.0,(MODE_A_CONCEPT_NO, MODE_A_CONCEPT_DIM_OG))\n",
    "MODALITY_A_CONCEPT_COV = np.random.uniform(0.1,0.5,(MODE_A_CONCEPT_NO, MODE_A_CONCEPT_DIM_OG, MODE_A_CONCEPT_DIM_OG))\n",
    "MODALITY_B_CONCEPT_MEANS = np.random.uniform(-1.0,1.0,(MODE_B_CONCEPT_NO, MODE_B_CONCEPT_DIM_OG))\n",
    "MODALITY_B_CONCEPT_COV = np.random.uniform(0.1,0.5,(MODE_B_CONCEPT_NO, MODE_B_CONCEPT_DIM_OG, MODE_B_CONCEPT_DIM_OG))\n",
    "\n",
    "modality_a_data = np.zeros((DATASET_SIZE, MODE_A_CONCEPT_DIM_OG))\n",
    "for idx, concept in tqdm(enumerate(modality_a_concept)):\n",
    "  concept_mean = MODALITY_A_CONCEPT_MEANS[int(concept), :]\n",
    "  concept_std = MODALITY_A_CONCEPT_COV[int(concept), :, :]\n",
    "  modality_a_data[idx,:]= np.random.multivariate_normal(concept_mean, concept_std)\n",
    "\n",
    "modality_b_data = np.zeros((DATASET_SIZE, MODE_B_CONCEPT_DIM_OG))\n",
    "for idx, concept in tqdm(enumerate(modality_a_concept)):\n",
    "  concept_mean = MODALITY_B_CONCEPT_MEANS[int(concept), :]\n",
    "  concept_std = MODALITY_B_CONCEPT_COV[int(concept), :, :]\n",
    "  modality_b_data[idx,:]= np.random.multivariate_normal(concept_mean, concept_std)\n",
    "\n",
    "X_a = modality_a_data\n",
    "X_b = modality_b_data\n",
    "X_comb = np.concatenate([modality_a_data,modality_b_data], axis=1)\n",
    "X_a.shape, X_b.shape, X_comb.shape"
   ]
  },
  {
   "cell_type": "code",
   "execution_count": 31,
   "metadata": {},
   "outputs": [],
   "source": [
    "import pickle\n",
    "\n",
    "data = dict()\n",
    "data['a'] = X_a\n",
    "data['b'] = X_b\n",
    "data['label'] = TRUE_LABELS\n",
    "\n",
    "with open(\"data.pickle\", \"wb\") as f:\n",
    "    try:\n",
    "        pickle.dump(data, f)\n",
    "    except Exception as ex:\n",
    "        print(\"Error during pickling object\", ex)\n",
    "f.close()"
   ]
  },
  {
   "cell_type": "code",
   "execution_count": 32,
   "metadata": {},
   "outputs": [
    {
     "name": "stdout",
     "output_type": "stream",
     "text": [
      "dict_keys(['a', 'b', 'label'])\n"
     ]
    }
   ],
   "source": [
    "try:\n",
    "    with open(\"data.pickle\", \"rb\") as f:\n",
    "        data = pickle.load(f)\n",
    "        print(data.keys())\n",
    "    f.close()\n",
    "except Exception as ex:\n",
    "    print(\"Error during unpickling object\", ex)"
   ]
  },
  {
   "cell_type": "code",
   "execution_count": 33,
   "metadata": {},
   "outputs": [],
   "source": [
    "import pickle\n",
    "\n",
    "data = dict()\n",
    "data['concept'] = CONCEPT_DATA\n",
    "data['label'] = TRUE_LABELS\n",
    "\n",
    "with open(\"concept.pickle\", \"wb\") as f:\n",
    "    try:\n",
    "        pickle.dump(data, f)\n",
    "    except Exception as ex:\n",
    "        print(\"Error during pickling object\", ex)\n",
    "f.close()"
   ]
  },
  {
   "cell_type": "code",
   "execution_count": 34,
   "metadata": {},
   "outputs": [
    {
     "name": "stdout",
     "output_type": "stream",
     "text": [
      "dict_keys(['concept', 'label'])\n"
     ]
    }
   ],
   "source": [
    "try:\n",
    "    with open(\"concept.pickle\", \"rb\") as f:\n",
    "        concept = pickle.load(f)\n",
    "        print(concept.keys())\n",
    "    f.close()\n",
    "except Exception as ex:\n",
    "    print(\"Error during unpickling object\", ex)"
   ]
  },
  {
   "cell_type": "code",
   "execution_count": 35,
   "metadata": {},
   "outputs": [],
   "source": [
    "assert((concept['label'] == data['label']).all())"
   ]
  },
  {
   "cell_type": "code",
   "execution_count": null,
   "metadata": {},
   "outputs": [],
   "source": []
  }
 ],
 "metadata": {
  "kernelspec": {
   "display_name": "Python 3.9.5 ('base': conda)",
   "language": "python",
   "name": "python3"
  },
  "language_info": {
   "codemirror_mode": {
    "name": "ipython",
    "version": 3
   },
   "file_extension": ".py",
   "mimetype": "text/x-python",
   "name": "python",
   "nbconvert_exporter": "python",
   "pygments_lexer": "ipython3",
   "version": "3.9.5"
  },
  "orig_nbformat": 4,
  "vscode": {
   "interpreter": {
    "hash": "c0394746621fe758950ee6905bebe61c2dacc228a4da466bd48ef3f4a4f4bc9c"
   }
  }
 },
 "nbformat": 4,
 "nbformat_minor": 2
}
