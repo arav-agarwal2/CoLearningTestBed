{
  "cells": [
    {
      "cell_type": "code",
      "execution_count": 4,
      "metadata": {
        "id": "G3qIzGgVoIXa"
      },
      "outputs": [],
      "source": [
        "import math\n",
        "import numpy as np\n",
        "import pickle\n",
        "from sklearn.model_selection import train_test_split"
      ]
    },
    {
      "cell_type": "code",
      "execution_count": 2,
      "metadata": {
        "id": "axGuLMghnGdA"
      },
      "outputs": [],
      "source": [
        "# From https://stackoverflow.com/questions/64890117/what-is-the-best-way-to-generate-all-binary-strings-of-the-given-length-in-pytho\n",
        "def generate_binary(bit_count):\n",
        "    binary_strings = []\n",
        "    def genbin(n, bs=''):\n",
        "        if len(bs) == n:\n",
        "            binary_strings.append(bs)\n",
        "        else:\n",
        "            genbin(n, bs + '0')\n",
        "            genbin(n, bs + '1')\n",
        "\n",
        "\n",
        "    genbin(bit_count)\n",
        "    return [bitstr_to_tuple(bs) for bs in binary_strings]\n",
        "\n",
        "def bitstr_to_tuple(bitstr):\n",
        "  return tuple(int(elem) for elem in bitstr)"
      ]
    },
    {
      "cell_type": "code",
      "execution_count": 20,
      "metadata": {
        "id": "d6mjQJ2ZnmzG"
      },
      "outputs": [],
      "source": [
        "# Number of data points\n",
        "NUM_DATA = 1000\n",
        "# Number of samples from the same concept Gaussian ( i.e. 'modalities' )\n",
        "NUM_SAMPLES = 5\n",
        "# Standard deviation of generated Gaussian distributions\n",
        "SEP = 0.5 # 0.5,1.0,2.0 with 100 concepts\n",
        "# Number of concepts\n",
        "NUM_CONCEPTS = 32 # 2,16,32,64 with 0.5 std\n",
        "\n",
        "# Generate Concept Means\n",
        "concept_dim = math.ceil(math.log(NUM_CONCEPTS,2))\n",
        "concept_means = generate_binary(concept_dim)[:NUM_CONCEPTS]\n",
        "\n",
        "# Generate means of concepts, so that they're spaced out evenly a la sklearn.datasets.make_classification [\n",
        "# I. Guyon, 'Design of experiments for the NIPS 2003 variable selection benchmark', 2003.]\n",
        "\n",
        "total_raw_data = []\n",
        "\n",
        "for modality_idx in range(NUM_SAMPLES):\n",
        "  temp_list = []\n",
        "  for concept_idx in range(NUM_CONCEPTS):\n",
        "    sample_set = np.random.multivariate_normal(concept_means[concept_idx],np.eye(concept_dim)*SEP, (NUM_DATA,))\n",
        "    temp_list.append(sample_set)\n",
        "  total_raw_data.append(temp_list)\n",
        "total_data = np.array(total_raw_data).transpose((2,1,0,3)).reshape((-1, NUM_SAMPLES, concept_dim))\n",
        "total_labels = np.tile([i for i in range(NUM_CONCEPTS)], NUM_DATA)\n",
        "# Data shape: [datapoint_idx, modality_idx, modality_dim], Label shape: [datapoint_idx]\n",
        "\n",
        "keys = ['a', 'b', 'c', 'd', 'e']\n",
        "data = dict()\n",
        "data['train'] = dict()\n",
        "data['test'] = dict()\n",
        "X_train, X_test, y_train, y_test = train_test_split(total_data, total_labels, test_size=0.33, random_state=42, stratify=total_labels)\n",
        "for i, k in enumerate(keys):\n",
        "  data['train'][k] = X_train[:,i]\n",
        "  data['test'][k] = X_test[:,i]\n",
        "data['train']['label'] = y_train\n",
        "data['test']['label'] = y_test\n",
        "\n",
        "\n",
        "with open(f\"SIMPLE_DATA_CLASS={NUM_CONCEPTS}_DIM={concept_dim}_STD={SEP}.pickle\", 'wb') as f:\n",
        "  pickle.dump(data, f)"
      ]
    },
    {
      "cell_type": "code",
      "execution_count": 11,
      "metadata": {},
      "outputs": [
        {
          "data": {
            "text/plain": [
              "[(0,), (1,)]"
            ]
          },
          "execution_count": 11,
          "metadata": {},
          "output_type": "execute_result"
        }
      ],
      "source": [
        "concept_means"
      ]
    },
    {
      "cell_type": "code",
      "execution_count": null,
      "metadata": {},
      "outputs": [],
      "source": []
    }
  ],
  "metadata": {
    "colab": {
      "collapsed_sections": [],
      "name": "Simple Synthetic Concept Data",
      "provenance": []
    },
    "kernelspec": {
      "display_name": "Python 3.9.6 ('multibench': conda)",
      "language": "python",
      "name": "python3"
    },
    "language_info": {
      "codemirror_mode": {
        "name": "ipython",
        "version": 3
      },
      "file_extension": ".py",
      "mimetype": "text/x-python",
      "name": "python",
      "nbconvert_exporter": "python",
      "pygments_lexer": "ipython3",
      "version": "3.9.6"
    },
    "vscode": {
      "interpreter": {
        "hash": "c222fec142c72f5e6af4e9862c69126ee31dbefe1dbc0fa9bc767810b6835b19"
      }
    }
  },
  "nbformat": 4,
  "nbformat_minor": 0
}
