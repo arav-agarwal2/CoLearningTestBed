{
  "cells": [
    {
      "cell_type": "code",
      "execution_count": 6,
      "metadata": {
        "id": "P7E8iHaXcMo7"
      },
      "outputs": [],
      "source": [
        "import numpy as np\n",
        "import pickle"
      ]
    },
    {
      "cell_type": "code",
      "execution_count": 7,
      "metadata": {
        "id": "UNcc3YewcQE5"
      },
      "outputs": [],
      "source": [
        "NUM_DATA = 1000\n",
        "NUM_SAMPLES = 2\n",
        "SEP = 0.5"
      ]
    },
    {
      "cell_type": "code",
      "execution_count": 8,
      "metadata": {
        "id": "hTNzKeYkcSLo"
      },
      "outputs": [],
      "source": [
        "X1 = np.random.normal(1, SEP, NUM_DATA//2*NUM_SAMPLES).reshape((NUM_SAMPLES,NUM_DATA//2))\n",
        "X0 = np.random.normal(-1, SEP, NUM_DATA//2*NUM_SAMPLES).reshape((NUM_SAMPLES,NUM_DATA//2))\n",
        "labels = np.asarray([1]*500 + [0]*500)\n",
        "X = dict()\n",
        "X['a'] = np.concatenate([X1[0].reshape(-1,), X0[0].reshape(-1,)]).reshape((-1,1))\n",
        "X['b'] = np.concatenate([X1[1].reshape(-1,), X0[1].reshape(-1,)]).reshape((-1,1))\n",
        "X['label'] = labels"
      ]
    },
    {
      "cell_type": "code",
      "execution_count": 9,
      "metadata": {
        "id": "VK0-lZOTc0sE"
      },
      "outputs": [],
      "source": [
        "with open(f\"SIMPLE_DATA_1,-1_STD={SEP}.pickle\", 'wb') as f:\n",
        "  pickle.dump(X, f)"
      ]
    },
    {
      "cell_type": "code",
      "execution_count": 10,
      "metadata": {},
      "outputs": [
        {
          "name": "stdout",
          "output_type": "stream",
          "text": [
            "(1000, 1) (1000, 1)\n"
          ]
        }
      ],
      "source": [
        "try:\n",
        "    with open(f\"SIMPLE_DATA_1,-1_STD={SEP}.pickle\", \"rb\") as f:\n",
        "        data = pickle.load(f)\n",
        "        print(data['a'].shape, data['b'].shape)\n",
        "    f.close()\n",
        "except Exception as ex:\n",
        "    print(\"Error during unpickling object\", ex)"
      ]
    },
    {
      "cell_type": "markdown",
      "metadata": {
        "id": "jGk8fLYTeOg1"
      },
      "source": [
        "MULTIVARIATE\n"
      ]
    },
    {
      "cell_type": "code",
      "execution_count": 18,
      "metadata": {
        "id": "PLeQfHf5eQVe"
      },
      "outputs": [],
      "source": [
        "NUM_SAMPLES = 2\n",
        "DIM = 3\n",
        "X1 = []\n",
        "X0 = []\n",
        "for i in range(NUM_SAMPLES):\n",
        "  x1  = np.random.multivariate_normal((1,-1,-1),np.eye(DIM)*SEP, (NUM_DATA,)) # +1\n",
        "  x0  = np.random.multivariate_normal((-1,-1,-1),np.eye(DIM)*SEP, (NUM_DATA,)) # -1\n",
        "  X1.append(x1)\n",
        "  X0.append(x0)\n",
        "X = dict()\n",
        "X['a'] = np.concatenate([X1[0], X0[0]], axis=0)\n",
        "X['b'] = np.concatenate([X1[1], X0[1]], axis=0)\n",
        "X['label'] = np.asarray([1]*NUM_DATA + [0]*NUM_DATA)"
      ]
    },
    {
      "cell_type": "code",
      "execution_count": 19,
      "metadata": {
        "id": "C9VeD40kepcz"
      },
      "outputs": [],
      "source": [
        "with open(f\"SIMPLE_DATA_DIM={DIM}_STD={SEP}.pickle\", 'wb') as f:\n",
        "  pickle.dump(X, f)"
      ]
    },
    {
      "cell_type": "code",
      "execution_count": 20,
      "metadata": {},
      "outputs": [
        {
          "name": "stdout",
          "output_type": "stream",
          "text": [
            "(2000, 3) (2000, 3)\n"
          ]
        }
      ],
      "source": [
        "try:\n",
        "    with open(f\"SIMPLE_DATA_DIM={DIM}_STD={SEP}.pickle\", \"rb\") as f:\n",
        "        data = pickle.load(f)\n",
        "        print(data['a'].shape, data['b'].shape)\n",
        "    f.close()\n",
        "except Exception as ex:\n",
        "    print(\"Error during unpickling object\", ex)"
      ]
    },
    {
      "cell_type": "code",
      "execution_count": null,
      "metadata": {},
      "outputs": [],
      "source": []
    }
  ],
  "metadata": {
    "colab": {
      "name": "SimpleDataGen.ipynb",
      "provenance": []
    },
    "kernelspec": {
      "display_name": "Python 3.9.6 ('multibench': conda)",
      "language": "python",
      "name": "python3"
    },
    "language_info": {
      "codemirror_mode": {
        "name": "ipython",
        "version": 3
      },
      "file_extension": ".py",
      "mimetype": "text/x-python",
      "name": "python",
      "nbconvert_exporter": "python",
      "pygments_lexer": "ipython3",
      "version": "3.9.6"
    },
    "vscode": {
      "interpreter": {
        "hash": "c222fec142c72f5e6af4e9862c69126ee31dbefe1dbc0fa9bc767810b6835b19"
      }
    }
  },
  "nbformat": 4,
  "nbformat_minor": 0
}
