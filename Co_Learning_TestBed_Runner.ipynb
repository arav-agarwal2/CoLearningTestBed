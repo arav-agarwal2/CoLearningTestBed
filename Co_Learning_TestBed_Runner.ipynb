{
  "nbformat": 4,
  "nbformat_minor": 0,
  "metadata": {
    "colab": {
      "name": "Co-Learning TestBed Runner",
      "provenance": [],
      "collapsed_sections": [],
      "authorship_tag": "ABX9TyPj8pA0SOx/9gu37dtN4uQE"
    },
    "kernelspec": {
      "name": "python3",
      "display_name": "Python 3"
    },
    "language_info": {
      "name": "python"
    },
    "accelerator": "GPU"
  },
  "cells": [
    {
      "cell_type": "markdown",
      "source": [
        "Use Environment Vars to handle PATs"
      ],
      "metadata": {
        "id": "g5NFVDJU5kty"
      }
    },
    {
      "cell_type": "code",
      "execution_count": 1,
      "metadata": {
        "colab": {
          "base_uri": "https://localhost:8080/"
        },
        "id": "fNXTg1sY4FCQ",
        "outputId": "24951954-df5f-46c7-f0af-ec9a84d624ce"
      },
      "outputs": [
        {
          "output_type": "stream",
          "name": "stdout",
          "text": [
            "Cloning into 'CoLearningTestBed'...\n",
            "remote: Enumerating objects: 28, done.\u001b[K\n",
            "remote: Counting objects: 100% (28/28), done.\u001b[K\n",
            "remote: Compressing objects: 100% (23/23), done.\u001b[K\n",
            "remote: Total 28 (delta 3), reused 18 (delta 0), pack-reused 0\u001b[K\n",
            "Unpacking objects: 100% (28/28), done.\n"
          ]
        }
      ],
      "source": [
        "!git clone https://arav-agarwal:[]@github.com/arav-agarwal2/CoLearningTestBed.git"
      ]
    },
    {
      "cell_type": "code",
      "source": [
        "!!gdown --id \"1szKIqO0t3Be_W91xvf6aYmsVVUa7wDHU\"\n",
        "!mv mosi_raw.pkl /content/mosi_raw.pkl"
      ],
      "metadata": {
        "colab": {
          "base_uri": "https://localhost:8080/"
        },
        "id": "RM7l1L_e62l6",
        "outputId": "d3ee935d-9af6-4d8d-b20d-bb9f08b1ffd4"
      },
      "execution_count": 2,
      "outputs": [
        {
          "output_type": "stream",
          "name": "stdout",
          "text": [
            "mv: 'mosi_raw.pkl' and '/content/mosi_raw.pkl' are the same file\n"
          ]
        }
      ]
    },
    {
      "cell_type": "code",
      "source": [
        "%cd CoLearningTestBed/\n",
        "!python3 main.py"
      ],
      "metadata": {
        "colab": {
          "base_uri": "https://localhost:8080/"
        },
        "id": "SoO1HQ8T51Wy",
        "outputId": "ec118d37-6292-42ef-e17c-357b222acc36"
      },
      "execution_count": null,
      "outputs": [
        {
          "output_type": "stream",
          "name": "stdout",
          "text": [
            "/content/CoLearningTestBed\n",
            "Dataset split\n",
            "Train Set: 41\n",
            "Validation Set: 7\n",
            "Test Set: 22\n",
            "Epoch 0 train loss: tensor(0.4580, device='cuda:0', grad_fn=<DivBackward0>)\n",
            "Epoch 0 valid loss: 0.49072393774986267\n",
            "Saving Best\n",
            "Epoch 1 train loss: tensor(0.3896, device='cuda:0', grad_fn=<DivBackward0>)\n",
            "Epoch 1 valid loss: 0.3666103780269623\n",
            "Saving Best\n",
            "Epoch 2 train loss: tensor(0.3086, device='cuda:0', grad_fn=<DivBackward0>)\n",
            "Epoch 2 valid loss: 0.3160076141357422\n",
            "Saving Best\n",
            "Epoch 3 train loss: tensor(0.2994, device='cuda:0', grad_fn=<DivBackward0>)\n",
            "Epoch 3 valid loss: 0.3698155879974365\n",
            "Epoch 4 train loss: tensor(0.2629, device='cuda:0', grad_fn=<DivBackward0>)\n",
            "Epoch 4 valid loss: 0.3297956883907318\n",
            "Epoch 5 train loss: tensor(0.2211, device='cuda:0', grad_fn=<DivBackward0>)\n",
            "Epoch 5 valid loss: 0.3309669494628906\n",
            "Epoch 6 train loss: tensor(0.1914, device='cuda:0', grad_fn=<DivBackward0>)\n",
            "Epoch 6 valid loss: 0.3193681836128235\n",
            "Epoch 7 train loss: tensor(0.1754, device='cuda:0', grad_fn=<DivBackward0>)\n",
            "Epoch 7 valid loss: 0.3151323199272156\n",
            "Saving Best\n",
            "Epoch 8 train loss: tensor(0.1455, device='cuda:0', grad_fn=<DivBackward0>)\n",
            "Epoch 8 valid loss: 0.3028479218482971\n",
            "Saving Best\n",
            "Epoch 9 train loss: tensor(0.1248, device='cuda:0', grad_fn=<DivBackward0>)\n",
            "Epoch 9 valid loss: 0.2959422171115875\n",
            "Saving Best\n",
            "Epoch 10 train loss: tensor(0.1104, device='cuda:0', grad_fn=<DivBackward0>)\n",
            "Epoch 10 valid loss: 0.27665552496910095\n",
            "Saving Best\n",
            "Epoch 11 train loss: tensor(0.0938, device='cuda:0', grad_fn=<DivBackward0>)\n",
            "Epoch 11 valid loss: 0.3045940101146698\n",
            "Epoch 12 train loss: tensor(0.0963, device='cuda:0', grad_fn=<DivBackward0>)\n",
            "Epoch 12 valid loss: 0.2626085579395294\n",
            "Saving Best\n",
            "Epoch 13 train loss: tensor(0.0887, device='cuda:0', grad_fn=<DivBackward0>)\n",
            "Epoch 13 valid loss: 0.27728986740112305\n",
            "Epoch 14 train loss: tensor(0.0651, device='cuda:0', grad_fn=<DivBackward0>)\n",
            "Epoch 14 valid loss: 0.2828724980354309\n",
            "Epoch 15 train loss: tensor(0.0652, device='cuda:0', grad_fn=<DivBackward0>)\n",
            "Epoch 15 valid loss: 0.26818040013313293\n",
            "Epoch 16 train loss: tensor(0.0532, device='cuda:0', grad_fn=<DivBackward0>)\n",
            "Epoch 16 valid loss: 0.293058842420578\n",
            "Epoch 17 train loss: tensor(0.0536, device='cuda:0', grad_fn=<DivBackward0>)\n",
            "Epoch 17 valid loss: 0.2980078160762787\n",
            "Epoch 18 train loss: tensor(0.0651, device='cuda:0', grad_fn=<DivBackward0>)\n",
            "Epoch 18 valid loss: 0.2894255220890045\n",
            "Epoch 19 train loss: tensor(0.0476, device='cuda:0', grad_fn=<DivBackward0>)\n",
            "Epoch 19 valid loss: 0.2794116139411926\n",
            "Epoch 20 train loss: tensor(0.0535, device='cuda:0', grad_fn=<DivBackward0>)\n",
            "Epoch 20 valid loss: 0.27607461810112\n",
            "Epoch 21 train loss: tensor(0.0521, device='cuda:0', grad_fn=<DivBackward0>)\n",
            "Epoch 21 valid loss: 0.2810119390487671\n",
            "Epoch 22 train loss: tensor(0.0629, device='cuda:0', grad_fn=<DivBackward0>)\n",
            "Epoch 22 valid loss: 0.3176409900188446\n",
            "Epoch 23 train loss: tensor(0.0588, device='cuda:0', grad_fn=<DivBackward0>)\n",
            "Epoch 23 valid loss: 0.2877264618873596\n",
            "Epoch 24 train loss: tensor(0.0451, device='cuda:0', grad_fn=<DivBackward0>)\n",
            "Epoch 24 valid loss: 0.29359570145606995\n",
            "Epoch 25 train loss: tensor(0.0434, device='cuda:0', grad_fn=<DivBackward0>)\n",
            "Epoch 25 valid loss: 0.30054211616516113\n",
            "Epoch 26 train loss: tensor(0.0406, device='cuda:0', grad_fn=<DivBackward0>)\n",
            "Epoch 26 valid loss: 0.26376134157180786\n",
            "Epoch 27 train loss: tensor(0.0425, device='cuda:0', grad_fn=<DivBackward0>)\n",
            "Epoch 27 valid loss: 0.2824615240097046\n"
          ]
        }
      ]
    }
  ]
}